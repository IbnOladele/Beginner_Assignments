{
 "cells": [
  {
   "cell_type": "code",
   "execution_count": 29,
   "id": "7a49aa3f-9471-4644-9923-2d4f156e8792",
   "metadata": {},
   "outputs": [
    {
     "name": "stdout",
     "output_type": "stream",
     "text": [
      "<class 'int'>\n"
     ]
    }
   ],
   "source": [
    "#Using type()\n",
    "print(type(1))"
   ]
  },
  {
   "cell_type": "code",
   "execution_count": 31,
   "id": "7e0ca2fb-0828-4728-b305-6eea199e01d8",
   "metadata": {},
   "outputs": [
    {
     "name": "stdout",
     "output_type": "stream",
     "text": [
      "<class 'float'>\n"
     ]
    }
   ],
   "source": [
    "print(type(1.2))"
   ]
  },
  {
   "cell_type": "code",
   "execution_count": 11,
   "id": "e1797dc8-efb9-4360-81f4-03c9875d0a97",
   "metadata": {},
   "outputs": [
    {
     "data": {
      "text/plain": [
       "str"
      ]
     },
     "execution_count": 11,
     "metadata": {},
     "output_type": "execute_result"
    }
   ],
   "source": [
    "print(type('hello'))"
   ]
  },
  {
   "cell_type": "code",
   "execution_count": 13,
   "id": "a597ac6f-1dd0-4d61-97e0-fc1c1bcf0eb4",
   "metadata": {},
   "outputs": [
    {
     "data": {
      "text/plain": [
       "bool"
      ]
     },
     "execution_count": 13,
     "metadata": {},
     "output_type": "execute_result"
    }
   ],
   "source": [
    "print(type(True))"
   ]
  },
  {
   "cell_type": "code",
   "execution_count": 15,
   "id": "23f6a87b-0db7-49c3-99b1-74a58e0cebfc",
   "metadata": {},
   "outputs": [
    {
     "data": {
      "text/plain": [
       "NoneType"
      ]
     },
     "execution_count": 15,
     "metadata": {},
     "output_type": "execute_result"
    }
   ],
   "source": [
    "print(type(None))"
   ]
  },
  {
   "cell_type": "code",
   "execution_count": 17,
   "id": "39fbc2d5-6d49-4a90-9c91-b4244618b7ef",
   "metadata": {},
   "outputs": [
    {
     "data": {
      "text/plain": [
       "list"
      ]
     },
     "execution_count": 17,
     "metadata": {},
     "output_type": "execute_result"
    }
   ],
   "source": [
    "print(type([1,2,3]))"
   ]
  },
  {
   "cell_type": "code",
   "execution_count": 19,
   "id": "71a53778-fcba-421a-a34a-37ac53b473dd",
   "metadata": {},
   "outputs": [
    {
     "data": {
      "text/plain": [
       "tuple"
      ]
     },
     "execution_count": 19,
     "metadata": {},
     "output_type": "execute_result"
    }
   ],
   "source": [
    "print(type((1,2,3))"
   ]
  },
  {
   "cell_type": "code",
   "execution_count": 21,
   "id": "da4ef23e-4b8f-485f-9e40-88c2e6448e3c",
   "metadata": {},
   "outputs": [
    {
     "data": {
      "text/plain": [
       "set"
      ]
     },
     "execution_count": 21,
     "metadata": {},
     "output_type": "execute_result"
    }
   ],
   "source": [
    "print(type({1,2,3}))"
   ]
  },
  {
   "cell_type": "code",
   "execution_count": 23,
   "id": "4f284cd1-bdaf-491c-8794-123efc6e57eb",
   "metadata": {},
   "outputs": [
    {
     "data": {
      "text/plain": [
       "dict"
      ]
     },
     "execution_count": 23,
     "metadata": {},
     "output_type": "execute_result"
    }
   ],
   "source": [
    "print(type({'a':1,'b':2,'c':3}))"
   ]
  },
  {
   "cell_type": "code",
   "execution_count": 33,
   "id": "a2d67f2e-7fdd-42ad-94a5-2abf26ee53f8",
   "metadata": {},
   "outputs": [
    {
     "name": "stdout",
     "output_type": "stream",
     "text": [
      "<class 'complex'>\n"
     ]
    }
   ],
   "source": [
    "print(type(12 + 3j))"
   ]
  },
  {
   "cell_type": "code",
   "execution_count": null,
   "id": "c89e1be8-2836-44ff-a4cb-139a5158bf53",
   "metadata": {},
   "outputs": [],
   "source": []
  },
  {
   "cell_type": "code",
   "execution_count": null,
   "id": "4995acff-266d-4fdc-b851-31664b68e042",
   "metadata": {},
   "outputs": [],
   "source": [
    "#Basic arithmetic operations with int and floats"
   ]
  },
  {
   "cell_type": "code",
   "execution_count": 36,
   "id": "345d5f3a-42d1-4f6c-9e42-9eee4ccc6ca4",
   "metadata": {},
   "outputs": [
    {
     "name": "stdout",
     "output_type": "stream",
     "text": [
      "3\n"
     ]
    }
   ],
   "source": [
    "print(1+2)"
   ]
  },
  {
   "cell_type": "code",
   "execution_count": 38,
   "id": "8ec42a32-16d0-45f1-a297-1c1217b649ee",
   "metadata": {},
   "outputs": [
    {
     "name": "stdout",
     "output_type": "stream",
     "text": [
      "1\n"
     ]
    }
   ],
   "source": [
    "print(2-1)"
   ]
  },
  {
   "cell_type": "code",
   "execution_count": 40,
   "id": "b763d45c-11bb-426d-915e-53d15ff82a3b",
   "metadata": {},
   "outputs": [
    {
     "name": "stdout",
     "output_type": "stream",
     "text": [
      "6\n"
     ]
    }
   ],
   "source": [
    "print(3*2)"
   ]
  },
  {
   "cell_type": "code",
   "execution_count": 52,
   "id": "6fcd2010-d743-495a-9b1a-de32c3531858",
   "metadata": {},
   "outputs": [
    {
     "name": "stdout",
     "output_type": "stream",
     "text": [
      "2.0\n",
      "<class 'float'>\n"
     ]
    }
   ],
   "source": [
    "print(4/2) #division of int gives a float\n",
    "print(type(4/2))"
   ]
  },
  {
   "cell_type": "code",
   "execution_count": 44,
   "id": "082da680-40db-441f-b31c-bff85d554340",
   "metadata": {},
   "outputs": [
    {
     "name": "stdout",
     "output_type": "stream",
     "text": [
      "3.0\n"
     ]
    }
   ],
   "source": [
    "print(1.0 + 2.0)"
   ]
  },
  {
   "cell_type": "code",
   "execution_count": 46,
   "id": "46ba7795-5886-4e9f-968e-59505b4b0953",
   "metadata": {},
   "outputs": [
    {
     "name": "stdout",
     "output_type": "stream",
     "text": [
      "1.0\n"
     ]
    }
   ],
   "source": [
    "print(2.0 - 1.0)"
   ]
  },
  {
   "cell_type": "code",
   "execution_count": 48,
   "id": "797e41b8-2849-49ed-b00b-40d162c81788",
   "metadata": {},
   "outputs": [
    {
     "name": "stdout",
     "output_type": "stream",
     "text": [
      "6.0\n"
     ]
    }
   ],
   "source": [
    "print(3.0 * 2.0)"
   ]
  },
  {
   "cell_type": "code",
   "execution_count": null,
   "id": "9e93a27d-8b1e-4e62-91e0-0d062fb4c82f",
   "metadata": {},
   "outputs": [],
   "source": [
    "print(8.4 / 2.0)"
   ]
  },
  {
   "cell_type": "code",
   "execution_count": null,
   "id": "85f6928f-3b41-45f8-a955-9e404dd128ca",
   "metadata": {},
   "outputs": [],
   "source": []
  },
  {
   "cell_type": "code",
   "execution_count": null,
   "id": "90c546d9-6366-4d18-9d50-28d735453374",
   "metadata": {},
   "outputs": [],
   "source": [
    "#converting between numeric types"
   ]
  },
  {
   "cell_type": "code",
   "execution_count": 54,
   "id": "161c0332-5522-4f2d-9071-de7d9687f060",
   "metadata": {},
   "outputs": [
    {
     "name": "stdout",
     "output_type": "stream",
     "text": [
      "1.0\n"
     ]
    }
   ],
   "source": [
    "print(float(1))"
   ]
  },
  {
   "cell_type": "code",
   "execution_count": 56,
   "id": "c6a2cbc6-ea9a-4cbb-9670-58e87e849766",
   "metadata": {},
   "outputs": [
    {
     "name": "stdout",
     "output_type": "stream",
     "text": [
      "2\n"
     ]
    }
   ],
   "source": [
    "print(int(2.5))"
   ]
  },
  {
   "cell_type": "code",
   "execution_count": null,
   "id": "5f347f1a-5eb9-47e6-ab52-60239bdf4f1b",
   "metadata": {},
   "outputs": [],
   "source": []
  },
  {
   "cell_type": "code",
   "execution_count": null,
   "id": "680cdaa5-e2f6-4a60-826f-7e672b263fd8",
   "metadata": {},
   "outputs": [],
   "source": []
  },
  {
   "cell_type": "code",
   "execution_count": null,
   "id": "3da00193-48f5-452b-b196-ca310b0726ca",
   "metadata": {},
   "outputs": [],
   "source": []
  },
  {
   "cell_type": "code",
   "execution_count": null,
   "id": "7889920c-49e0-44cb-9c6b-6fce254f77e7",
   "metadata": {},
   "outputs": [],
   "source": []
  },
  {
   "cell_type": "code",
   "execution_count": null,
   "id": "58ca58ca-82f1-44e5-adcf-e4d750627fec",
   "metadata": {},
   "outputs": [],
   "source": []
  }
 ],
 "metadata": {
  "kernelspec": {
   "display_name": "Python 3 (ipykernel)",
   "language": "python",
   "name": "python3"
  },
  "language_info": {
   "codemirror_mode": {
    "name": "ipython",
    "version": 3
   },
   "file_extension": ".py",
   "mimetype": "text/x-python",
   "name": "python",
   "nbconvert_exporter": "python",
   "pygments_lexer": "ipython3",
   "version": "3.12.4"
  }
 },
 "nbformat": 4,
 "nbformat_minor": 5
}
