{
 "cells": [
  {
   "cell_type": "code",
   "execution_count": 29,
   "id": "7a49aa3f-9471-4644-9923-2d4f156e8792",
   "metadata": {},
   "outputs": [
    {
     "name": "stdout",
     "output_type": "stream",
     "text": [
      "<class 'int'>\n"
     ]
    }
   ],
   "source": [
    "#Using type()\n",
    "print(type(1))"
   ]
  },
  {
   "cell_type": "code",
   "execution_count": 31,
   "id": "7e0ca2fb-0828-4728-b305-6eea199e01d8",
   "metadata": {},
   "outputs": [
    {
     "name": "stdout",
     "output_type": "stream",
     "text": [
      "<class 'float'>\n"
     ]
    }
   ],
   "source": [
    "print(type(1.2))"
   ]
  },
  {
   "cell_type": "code",
   "execution_count": 11,
   "id": "e1797dc8-efb9-4360-81f4-03c9875d0a97",
   "metadata": {},
   "outputs": [
    {
     "data": {
      "text/plain": [
       "str"
      ]
     },
     "execution_count": 11,
     "metadata": {},
     "output_type": "execute_result"
    }
   ],
   "source": [
    "print(type('hello'))"
   ]
  },
  {
   "cell_type": "code",
   "execution_count": 13,
   "id": "a597ac6f-1dd0-4d61-97e0-fc1c1bcf0eb4",
   "metadata": {},
   "outputs": [
    {
     "data": {
      "text/plain": [
       "bool"
      ]
     },
     "execution_count": 13,
     "metadata": {},
     "output_type": "execute_result"
    }
   ],
   "source": [
    "print(type(True))"
   ]
  },
  {
   "cell_type": "code",
   "execution_count": 15,
   "id": "23f6a87b-0db7-49c3-99b1-74a58e0cebfc",
   "metadata": {},
   "outputs": [
    {
     "data": {
      "text/plain": [
       "NoneType"
      ]
     },
     "execution_count": 15,
     "metadata": {},
     "output_type": "execute_result"
    }
   ],
   "source": [
    "print(type(None))"
   ]
  },
  {
   "cell_type": "code",
   "execution_count": 17,
   "id": "39fbc2d5-6d49-4a90-9c91-b4244618b7ef",
   "metadata": {},
   "outputs": [
    {
     "data": {
      "text/plain": [
       "list"
      ]
     },
     "execution_count": 17,
     "metadata": {},
     "output_type": "execute_result"
    }
   ],
   "source": [
    "print(type([1,2,3]))"
   ]
  },
  {
   "cell_type": "code",
   "execution_count": 19,
   "id": "71a53778-fcba-421a-a34a-37ac53b473dd",
   "metadata": {},
   "outputs": [
    {
     "data": {
      "text/plain": [
       "tuple"
      ]
     },
     "execution_count": 19,
     "metadata": {},
     "output_type": "execute_result"
    }
   ],
   "source": [
    "print(type((1,2,3))"
   ]
  },
  {
   "cell_type": "code",
   "execution_count": 21,
   "id": "da4ef23e-4b8f-485f-9e40-88c2e6448e3c",
   "metadata": {},
   "outputs": [
    {
     "data": {
      "text/plain": [
       "set"
      ]
     },
     "execution_count": 21,
     "metadata": {},
     "output_type": "execute_result"
    }
   ],
   "source": [
    "print(type({1,2,3}))"
   ]
  },
  {
   "cell_type": "code",
   "execution_count": 23,
   "id": "4f284cd1-bdaf-491c-8794-123efc6e57eb",
   "metadata": {},
   "outputs": [
    {
     "data": {
      "text/plain": [
       "dict"
      ]
     },
     "execution_count": 23,
     "metadata": {},
     "output_type": "execute_result"
    }
   ],
   "source": [
    "print(type({'a':1,'b':2,'c':3}))"
   ]
  },
  {
   "cell_type": "code",
   "execution_count": 33,
   "id": "a2d67f2e-7fdd-42ad-94a5-2abf26ee53f8",
   "metadata": {},
   "outputs": [
    {
     "name": "stdout",
     "output_type": "stream",
     "text": [
      "<class 'complex'>\n"
     ]
    }
   ],
   "source": [
    "print(type(12 + 3j))"
   ]
  },
  {
   "cell_type": "code",
   "execution_count": null,
   "id": "c89e1be8-2836-44ff-a4cb-139a5158bf53",
   "metadata": {},
   "outputs": [],
   "source": []
  },
  {
   "cell_type": "code",
   "execution_count": null,
   "id": "4995acff-266d-4fdc-b851-31664b68e042",
   "metadata": {},
   "outputs": [],
   "source": [
    "#Basic arithmetic operations with int and floats"
   ]
  },
  {
   "cell_type": "code",
   "execution_count": 36,
   "id": "345d5f3a-42d1-4f6c-9e42-9eee4ccc6ca4",
   "metadata": {},
   "outputs": [
    {
     "name": "stdout",
     "output_type": "stream",
     "text": [
      "3\n"
     ]
    }
   ],
   "source": [
    "print(1+2)"
   ]
  },
  {
   "cell_type": "code",
   "execution_count": 38,
   "id": "8ec42a32-16d0-45f1-a297-1c1217b649ee",
   "metadata": {},
   "outputs": [
    {
     "name": "stdout",
     "output_type": "stream",
     "text": [
      "1\n"
     ]
    }
   ],
   "source": [
    "print(2-1)"
   ]
  },
  {
   "cell_type": "code",
   "execution_count": 40,
   "id": "b763d45c-11bb-426d-915e-53d15ff82a3b",
   "metadata": {},
   "outputs": [
    {
     "name": "stdout",
     "output_type": "stream",
     "text": [
      "6\n"
     ]
    }
   ],
   "source": [
    "print(3*2)"
   ]
  },
  {
   "cell_type": "code",
   "execution_count": 52,
   "id": "6fcd2010-d743-495a-9b1a-de32c3531858",
   "metadata": {},
   "outputs": [
    {
     "name": "stdout",
     "output_type": "stream",
     "text": [
      "2.0\n",
      "<class 'float'>\n"
     ]
    }
   ],
   "source": [
    "print(4/2) #division of int gives a float\n",
    "print(type(4/2))"
   ]
  },
  {
   "cell_type": "code",
   "execution_count": 44,
   "id": "082da680-40db-441f-b31c-bff85d554340",
   "metadata": {},
   "outputs": [
    {
     "name": "stdout",
     "output_type": "stream",
     "text": [
      "3.0\n"
     ]
    }
   ],
   "source": [
    "print(1.0 + 2.0)"
   ]
  },
  {
   "cell_type": "code",
   "execution_count": 46,
   "id": "46ba7795-5886-4e9f-968e-59505b4b0953",
   "metadata": {},
   "outputs": [
    {
     "name": "stdout",
     "output_type": "stream",
     "text": [
      "1.0\n"
     ]
    }
   ],
   "source": [
    "print(2.0 - 1.0)"
   ]
  },
  {
   "cell_type": "code",
   "execution_count": 48,
   "id": "797e41b8-2849-49ed-b00b-40d162c81788",
   "metadata": {},
   "outputs": [
    {
     "name": "stdout",
     "output_type": "stream",
     "text": [
      "6.0\n"
     ]
    }
   ],
   "source": [
    "print(3.0 * 2.0)"
   ]
  },
  {
   "cell_type": "code",
   "execution_count": null,
   "id": "9e93a27d-8b1e-4e62-91e0-0d062fb4c82f",
   "metadata": {},
   "outputs": [],
   "source": [
    "print(8.4 / 2.0)"
   ]
  },
  {
   "cell_type": "code",
   "execution_count": null,
   "id": "85f6928f-3b41-45f8-a955-9e404dd128ca",
   "metadata": {},
   "outputs": [],
   "source": []
  },
  {
   "cell_type": "code",
   "execution_count": null,
   "id": "90c546d9-6366-4d18-9d50-28d735453374",
   "metadata": {},
   "outputs": [],
   "source": [
    "#converting between numeric types"
   ]
  },
  {
   "cell_type": "code",
   "execution_count": 54,
   "id": "161c0332-5522-4f2d-9071-de7d9687f060",
   "metadata": {},
   "outputs": [
    {
     "name": "stdout",
     "output_type": "stream",
     "text": [
      "1.0\n"
     ]
    }
   ],
   "source": [
    "print(float(1))"
   ]
  },
  {
   "cell_type": "code",
   "execution_count": 56,
   "id": "c6a2cbc6-ea9a-4cbb-9670-58e87e849766",
   "metadata": {},
   "outputs": [
    {
     "name": "stdout",
     "output_type": "stream",
     "text": [
      "2\n"
     ]
    }
   ],
   "source": [
    "print(int(2.5))"
   ]
  },
  {
   "cell_type": "code",
   "execution_count": null,
   "id": "5f347f1a-5eb9-47e6-ab52-60239bdf4f1b",
   "metadata": {},
   "outputs": [],
   "source": []
  },
  {
   "cell_type": "code",
   "execution_count": null,
   "id": "680cdaa5-e2f6-4a60-826f-7e672b263fd8",
   "metadata": {},
   "outputs": [],
   "source": [
    "#using string methods"
   ]
  },
  {
   "cell_type": "code",
   "execution_count": 58,
   "id": "3da00193-48f5-452b-b196-ca310b0726ca",
   "metadata": {},
   "outputs": [
    {
     "name": "stdout",
     "output_type": "stream",
     "text": [
      "HI THERE\n"
     ]
    }
   ],
   "source": [
    "print(\"Hi there\".upper())"
   ]
  },
  {
   "cell_type": "code",
   "execution_count": 60,
   "id": "7889920c-49e0-44cb-9c6b-6fce254f77e7",
   "metadata": {},
   "outputs": [
    {
     "name": "stdout",
     "output_type": "stream",
     "text": [
      "i love football\n"
     ]
    }
   ],
   "source": [
    "print(\"I LOVE FOOTBALL\".lower())"
   ]
  },
  {
   "cell_type": "code",
   "execution_count": null,
   "id": "58ca58ca-82f1-44e5-adcf-e4d750627fec",
   "metadata": {},
   "outputs": [],
   "source": []
  },
  {
   "cell_type": "code",
   "execution_count": 64,
   "id": "83cce024-3ace-47d6-94c6-d66f75a3d837",
   "metadata": {},
   "outputs": [],
   "source": [
    "#strings with variables\n",
    "name = \"John\"\n",
    "greeting = \"Hello, my name is John\"\n",
    "shout = \"Hello!!\"\n",
    "message = \"\"\"\n",
    "Hello, on my way out, I picked up a few things from the store.\n",
    "I need your help to bring them in when you get home.\n",
    "Please keep your phone close.\n",
    "\"\"\""
   ]
  },
  {
   "cell_type": "code",
   "execution_count": 66,
   "id": "1662c252-a8db-4f7c-9e27-b43620ca6d06",
   "metadata": {},
   "outputs": [
    {
     "name": "stdout",
     "output_type": "stream",
     "text": [
      "John\n"
     ]
    }
   ],
   "source": [
    "print(name)"
   ]
  },
  {
   "cell_type": "code",
   "execution_count": 68,
   "id": "17db9c8f-762a-4be4-a341-cec22aa50ccc",
   "metadata": {},
   "outputs": [
    {
     "name": "stdout",
     "output_type": "stream",
     "text": [
      "HELLO, MY NAME IS JOHN\n"
     ]
    }
   ],
   "source": [
    "print(greeting.upper())"
   ]
  },
  {
   "cell_type": "code",
   "execution_count": 70,
   "id": "cc01fcd3-d217-44b6-9731-9c57d99bc20c",
   "metadata": {},
   "outputs": [
    {
     "name": "stdout",
     "output_type": "stream",
     "text": [
      "Hello!!Hello!!\n"
     ]
    }
   ],
   "source": [
    "print(shout + shout)"
   ]
  },
  {
   "cell_type": "code",
   "execution_count": 72,
   "id": "612bcf46-08fc-42fe-a72d-3e6fc9e3fd73",
   "metadata": {},
   "outputs": [
    {
     "name": "stdout",
     "output_type": "stream",
     "text": [
      "Hello, \n"
     ]
    }
   ],
   "source": [
    "print(greeting[:7])"
   ]
  },
  {
   "cell_type": "code",
   "execution_count": 74,
   "id": "b1bee6db-4a03-4cbe-a39e-ffbad4c9de1f",
   "metadata": {},
   "outputs": [
    {
     "name": "stdout",
     "output_type": "stream",
     "text": [
      "me is John\n"
     ]
    }
   ],
   "source": [
    "print(greeting[12:])"
   ]
  },
  {
   "cell_type": "code",
   "execution_count": 76,
   "id": "e70ce16b-f8a6-4d3e-b99f-6de0e31184f1",
   "metadata": {},
   "outputs": [
    {
     "name": "stdout",
     "output_type": "stream",
     "text": [
      "Hello!!Hello!!Hello!!\n"
     ]
    }
   ],
   "source": [
    "print(shout * 3)"
   ]
  },
  {
   "cell_type": "code",
   "execution_count": 78,
   "id": "41951d77-422f-4752-8971-d0c2b1d2c7b8",
   "metadata": {},
   "outputs": [
    {
     "name": "stdout",
     "output_type": "stream",
     "text": [
      "\n",
      "Hello, on my way out, I picked up a few things from the store.\n",
      "I need your help to bring them in when you get home.\n",
      "Please keep your phone close.\n",
      "\n"
     ]
    }
   ],
   "source": [
    "print(message)"
   ]
  },
  {
   "cell_type": "code",
   "execution_count": 80,
   "id": "18c11ec3-04e1-410f-95cf-1733fc4cafa0",
   "metadata": {},
   "outputs": [
    {
     "name": "stdout",
     "output_type": "stream",
     "text": [
      "\n",
      "Hi, on my way out, I picked up a few things from the store.\n",
      "I need your help to bring them in when you get home.\n",
      "Please keep your phone close.\n",
      "\n"
     ]
    }
   ],
   "source": [
    "print(message.replace(\"Hello\", \"Hi\"))"
   ]
  },
  {
   "cell_type": "code",
   "execution_count": 114,
   "id": "a067f1c2-6bb8-4c2c-b28a-ab65ca61521c",
   "metadata": {},
   "outputs": [
    {
     "name": "stdout",
     "output_type": "stream",
     "text": [
      "\n",
      "HELLO, ON MY WAY OUT, I PICKED UP A FEW THINGS FROM THE STORE.\n",
      "I NEED YOUR HELP TO BRING THEM IN WHEN YOU GET HOME.\n",
      "PLEASE KEEP YOUR PHONE CLOSE.\n",
      "\n"
     ]
    }
   ],
   "source": [
    "print(message.upper())"
   ]
  },
  {
   "cell_type": "code",
   "execution_count": 82,
   "id": "e7df5c71-d761-474a-bbe3-395f413e168e",
   "metadata": {},
   "outputs": [
    {
     "name": "stdout",
     "output_type": "stream",
     "text": [
      "John \n",
      "Hello, on my way out, I picked up a few things from the store.\n",
      "I need your help to bring them in when you get home.\n",
      "Please keep your phone close.\n",
      "\n"
     ]
    }
   ],
   "source": [
    "print(name + \" \" + message)"
   ]
  },
  {
   "cell_type": "code",
   "execution_count": null,
   "id": "867d8ce1-115a-49f4-ae41-c42736af0b5a",
   "metadata": {},
   "outputs": [],
   "source": []
  },
  {
   "cell_type": "code",
   "execution_count": null,
   "id": "ed8ed30b-1b2b-4978-b012-176934f9b33c",
   "metadata": {},
   "outputs": [],
   "source": [
    "#Lists"
   ]
  },
  {
   "cell_type": "code",
   "execution_count": 88,
   "id": "cd9d408e-94ef-4150-a82e-4bba7614c1f2",
   "metadata": {},
   "outputs": [
    {
     "name": "stdout",
     "output_type": "stream",
     "text": [
      "['cookie Dough', 'Strawberry', 'chocolate']\n"
     ]
    }
   ],
   "source": [
    "ice_cream = [\"cookie Dough\", \"Strawberry\", \"chocolate\"]\n",
    "print(ice_cream)"
   ]
  },
  {
   "cell_type": "code",
   "execution_count": 90,
   "id": "2e4aa298-5026-4930-bdf6-0ed20645fdb6",
   "metadata": {},
   "outputs": [
    {
     "name": "stdout",
     "output_type": "stream",
     "text": [
      "['cookie Dough', 'Strawberry', 'chocolate', 'salted Caramel']\n"
     ]
    }
   ],
   "source": [
    "ice_cream.append(\"salted Caramel\")\n",
    "print(ice_cream)"
   ]
  },
  {
   "cell_type": "code",
   "execution_count": 92,
   "id": "49ac3ce6-9101-4191-9a1a-276cf5bfe5a5",
   "metadata": {},
   "outputs": [
    {
     "name": "stdout",
     "output_type": "stream",
     "text": [
      "chocolate\n",
      "['Strawberry', 'chocolate']\n"
     ]
    }
   ],
   "source": [
    "print(ice_cream[2])\n",
    "print(ice_cream[1:3])"
   ]
  },
  {
   "cell_type": "code",
   "execution_count": 94,
   "id": "2f051613-bce7-4763-91c3-961c4bddee1e",
   "metadata": {},
   "outputs": [
    {
     "name": "stdout",
     "output_type": "stream",
     "text": [
      "['cookie Dough', 'chocolate', 'salted Caramel']\n"
     ]
    }
   ],
   "source": [
    "ice_cream.remove(\"Strawberry\")\n",
    "print(ice_cream)"
   ]
  },
  {
   "cell_type": "code",
   "execution_count": 96,
   "id": "715e1d0a-6f20-4eb3-91fb-8014edc8fac0",
   "metadata": {},
   "outputs": [
    {
     "name": "stdout",
     "output_type": "stream",
     "text": [
      "['cookie Dough', 'salted Caramel']\n"
     ]
    }
   ],
   "source": [
    "ice_cream.pop(1)\n",
    "print(ice_cream)"
   ]
  },
  {
   "cell_type": "code",
   "execution_count": 100,
   "id": "535203b7-4d70-46f4-8a70-06cbe55059e5",
   "metadata": {},
   "outputs": [
    {
     "name": "stdout",
     "output_type": "stream",
     "text": [
      "['flour', 'sugar', 'eggs', 'butter', 'oil', 'milk']\n",
      "['butter', 'eggs', 'flour', 'milk', 'oil', 'sugar']\n"
     ]
    }
   ],
   "source": [
    "ingredients = [\"flour\", \"sugar\", \"eggs\", \"butter\", \"oil\", \"milk\"]\n",
    "print(ingredients)\n",
    "ingredients.sort()\n",
    "print(ingredients)"
   ]
  },
  {
   "cell_type": "code",
   "execution_count": 102,
   "id": "9cbf8bab-c017-4a94-8a07-7476b91f5204",
   "metadata": {},
   "outputs": [
    {
     "name": "stdout",
     "output_type": "stream",
     "text": [
      "['sugar', 'oil', 'milk', 'flour', 'eggs', 'butter']\n"
     ]
    }
   ],
   "source": [
    "ingredients.reverse()\n",
    "print(ingredients)"
   ]
  },
  {
   "cell_type": "code",
   "execution_count": null,
   "id": "508e54b8-8347-4945-9acf-2b48d6397c70",
   "metadata": {},
   "outputs": [],
   "source": []
  },
  {
   "cell_type": "code",
   "execution_count": null,
   "id": "bceb27bf-031a-4af1-95e5-0e0e7aa8cd5a",
   "metadata": {},
   "outputs": [],
   "source": [
    "#Tuples"
   ]
  },
  {
   "cell_type": "code",
   "execution_count": 104,
   "id": "b1033a98-27ce-4269-aaa6-51abb7904c85",
   "metadata": {},
   "outputs": [
    {
     "name": "stdout",
     "output_type": "stream",
     "text": [
      "<class 'tuple'>\n"
     ]
    }
   ],
   "source": [
    "ages = (20, 25, 30, 35, 40, 45)\n",
    "print(type(ages))"
   ]
  },
  {
   "cell_type": "code",
   "execution_count": 106,
   "id": "36b1e270-efa9-4675-b5fa-cbc809f96d47",
   "metadata": {},
   "outputs": [
    {
     "name": "stdout",
     "output_type": "stream",
     "text": [
      "(20, 25, 30, 35, 40, 45)\n"
     ]
    }
   ],
   "source": [
    "print(ages)"
   ]
  },
  {
   "cell_type": "code",
   "execution_count": 108,
   "id": "2c52e0b2-112e-4f74-931c-2c8100dac090",
   "metadata": {},
   "outputs": [
    {
     "ename": "AttributeError",
     "evalue": "'tuple' object has no attribute 'append'",
     "output_type": "error",
     "traceback": [
      "\u001b[1;31m---------------------------------------------------------------------------\u001b[0m",
      "\u001b[1;31mAttributeError\u001b[0m                            Traceback (most recent call last)",
      "Cell \u001b[1;32mIn[108], line 1\u001b[0m\n\u001b[1;32m----> 1\u001b[0m ages\u001b[38;5;241m.\u001b[39mappend(\u001b[38;5;241m50\u001b[39m)\n",
      "\u001b[1;31mAttributeError\u001b[0m: 'tuple' object has no attribute 'append'"
     ]
    }
   ],
   "source": [
    "ages.append(50)   #Throws an attribute error"
   ]
  },
  {
   "cell_type": "code",
   "execution_count": 110,
   "id": "79948bdb-7005-4e11-9e0e-366b847ace73",
   "metadata": {},
   "outputs": [
    {
     "name": "stdout",
     "output_type": "stream",
     "text": [
      "25\n"
     ]
    }
   ],
   "source": [
    "print(ages[1])"
   ]
  },
  {
   "cell_type": "code",
   "execution_count": null,
   "id": "56cc39bc-f2fa-4d1d-927c-457ff0b16078",
   "metadata": {},
   "outputs": [],
   "source": []
  }
 ],
 "metadata": {
  "kernelspec": {
   "display_name": "Python 3 (ipykernel)",
   "language": "python",
   "name": "python3"
  },
  "language_info": {
   "codemirror_mode": {
    "name": "ipython",
    "version": 3
   },
   "file_extension": ".py",
   "mimetype": "text/x-python",
   "name": "python",
   "nbconvert_exporter": "python",
   "pygments_lexer": "ipython3",
   "version": "3.12.4"
  }
 },
 "nbformat": 4,
 "nbformat_minor": 5
}
